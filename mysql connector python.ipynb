{
 "cells": [
  {
   "cell_type": "code",
   "execution_count": 2,
   "id": "c002f273-d634-4d93-8f31-b491b8564505",
   "metadata": {},
   "outputs": [],
   "source": [
    "import mysql.connector"
   ]
  },
  {
   "cell_type": "code",
   "execution_count": null,
   "id": "4fef3f20-3050-40cc-9ae2-f80e1bc7c6ac",
   "metadata": {},
   "outputs": [],
   "source": [
    "try:\n",
    "    kas = mysql.connector.connect(\n",
    "        host ='localhost',\n",
    "        port =3306,\n",
    "        user = 'root',\n",
    "        password ='abcd')\n",
    "    print(kas)\n",
    "except Exception as e:\n",
    "    print(e)"
   ]
  },
  {
   "cell_type": "code",
   "execution_count": null,
   "id": "5645c3ba-30b8-4817-ad91-968060484210",
   "metadata": {},
   "outputs": [],
   "source": []
  },
  {
   "cell_type": "code",
   "execution_count": null,
   "id": "120527a5-fa62-4ebb-b160-9bfd25bcf252",
   "metadata": {},
   "outputs": [],
   "source": []
  },
  {
   "cell_type": "code",
   "execution_count": null,
   "id": "63ba82ed-1b30-43d7-9c1e-b406b94f4815",
   "metadata": {},
   "outputs": [],
   "source": []
  }
 ],
 "metadata": {
  "kernelspec": {
   "display_name": "Python 3 (ipykernel)",
   "language": "python",
   "name": "python3"
  },
  "language_info": {
   "codemirror_mode": {
    "name": "ipython",
    "version": 3
   },
   "file_extension": ".py",
   "mimetype": "text/x-python",
   "name": "python",
   "nbconvert_exporter": "python",
   "pygments_lexer": "ipython3",
   "version": "3.13.1"
  }
 },
 "nbformat": 4,
 "nbformat_minor": 5
}
